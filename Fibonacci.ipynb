{
 "cells": [
  {
   "cell_type": "code",
   "execution_count": 63,
   "metadata": {},
   "outputs": [
    {
     "name": "stdout",
     "output_type": "stream",
     "text": [
      "2.24 s ± 17.3 ms per loop (mean ± std. dev. of 7 runs, 1 loop each)\n"
     ]
    }
   ],
   "source": [
    "# Simple recursive method\n",
    "# O(2^n) for time\n",
    "\n",
    "def fib(n):\n",
    "    if n<=2:\n",
    "        return 1\n",
    "    else:\n",
    "        return fib(n-1)+fib(n-2)\n",
    "\n",
    "%timeit fib(35)"
   ]
  },
  {
   "cell_type": "code",
   "execution_count": 62,
   "metadata": {},
   "outputs": [
    {
     "name": "stdout",
     "output_type": "stream",
     "text": [
      "158 ns ± 2.35 ns per loop (mean ± std. dev. of 7 runs, 10000000 loops each)\n"
     ]
    }
   ],
   "source": [
    "# Recursion using memoisation\n",
    "# O(n) for time\n",
    "\n",
    "def fib(n, store):\n",
    "    if n in store:\n",
    "        return store[n]\n",
    "    if n<=2:\n",
    "        return 1\n",
    "    store[n] = fib(n-1, store) + fib(n-2, store)\n",
    "    return store[n]\n",
    "\n",
    "a={}\n",
    "%timeit fib(35, a)"
   ]
  },
  {
   "cell_type": "code",
   "execution_count": 64,
   "metadata": {},
   "outputs": [
    {
     "name": "stdout",
     "output_type": "stream",
     "text": [
      "5.01 µs ± 84.7 ns per loop (mean ± std. dev. of 7 runs, 100000 loops each)\n"
     ]
    }
   ],
   "source": [
    "# Simple iterative method\n",
    "def fib(n):\n",
    "    a = 1\n",
    "    b = 1\n",
    "    x = 3\n",
    "    while x < n+1:\n",
    "        c = a + b\n",
    "        a = b\n",
    "        b = c\n",
    "        x = x + 1\n",
    "    return c\n",
    "\n",
    "%timeit fib(35)"
   ]
  },
  {
   "cell_type": "code",
   "execution_count": null,
   "metadata": {},
   "outputs": [],
   "source": [
    "# In Swift - for comparison\n",
    "\n",
    "import Foundation\n",
    "\n",
    "func fib(n: Int) -> Int {\n",
    "    if n <= 2 {\n",
    "        return 1\n",
    "    }\n",
    "    return fib(n: n-1) + fib(n: n-2)\n",
    "}\n",
    "\n",
    "print(fib(n: 20))"
   ]
  },
  {
   "cell_type": "code",
   "execution_count": null,
   "metadata": {},
   "outputs": [],
   "source": []
  }
 ],
 "metadata": {
  "kernelspec": {
   "display_name": "Python 3",
   "language": "python",
   "name": "python3"
  },
  "language_info": {
   "codemirror_mode": {
    "name": "ipython",
    "version": 3
   },
   "file_extension": ".py",
   "mimetype": "text/x-python",
   "name": "python",
   "nbconvert_exporter": "python",
   "pygments_lexer": "ipython3",
   "version": "3.7.4"
  }
 },
 "nbformat": 4,
 "nbformat_minor": 2
}
